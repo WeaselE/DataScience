{
 "cells": [
  {
   "cell_type": "code",
   "execution_count": 10,
   "source": [
    "from sklearn.datasets import load_iris\r\n",
    "iris = load_iris()\r\n",
    "\r\n",
    "X = iris.data\r\n",
    "y = iris.target"
   ],
   "outputs": [],
   "metadata": {}
  },
  {
   "cell_type": "code",
   "execution_count": 11,
   "source": [
    "import pandas as pd\r\n",
    "import numpy as np\r\n",
    "import matplotlib as plt\r\n",
    "\r\n",
    "data = pd.read_csv('https://raw.githubusercontent.com/justmarkham/scikit-learn-videos/master/data/Advertising.csv')\r\n",
    "\r\n",
    "feature_cols = ['TV', 'Radio', 'Newspaper']\r\n",
    "# feature_cols = ['TV', 'Newspaper']\r\n",
    "\r\n",
    "X = data[feature_cols]\r\n",
    "y = data['Sales']"
   ],
   "outputs": [],
   "metadata": {}
  },
  {
   "cell_type": "code",
   "execution_count": null,
   "source": [
    "from sklearn.model_selection import cross_val_score\r\n"
   ],
   "outputs": [],
   "metadata": {}
  }
 ],
 "metadata": {
  "orig_nbformat": 4,
  "language_info": {
   "name": "python",
   "version": "3.9.6",
   "mimetype": "text/x-python",
   "codemirror_mode": {
    "name": "ipython",
    "version": 3
   },
   "pygments_lexer": "ipython3",
   "nbconvert_exporter": "python",
   "file_extension": ".py"
  },
  "kernelspec": {
   "name": "python3",
   "display_name": "Python 3.9.6 64-bit"
  },
  "interpreter": {
   "hash": "260e861fc145802b2065f81493a634caf98c96d90fe2dfd40d3303e09cbbbc3d"
  }
 },
 "nbformat": 4,
 "nbformat_minor": 2
}