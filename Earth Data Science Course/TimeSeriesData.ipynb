{
 "cells": [
  {
   "cell_type": "code",
   "execution_count": 1,
   "source": [
    "from matplotlib.axes._axes import _log as matplotlib_axes_logger\r\n",
    "import matplotlib.pyplot as plt\r\n",
    "import seaborn as sns\r\n",
    "import pandas as pd\r\n",
    "# import earthpy as et\r\n",
    "from pandas.plotting import register_matplotlib_converters"
   ],
   "outputs": [],
   "metadata": {}
  },
  {
   "cell_type": "code",
   "execution_count": 2,
   "source": [
    "register_matplotlib_converters()"
   ],
   "outputs": [],
   "metadata": {}
  },
  {
   "cell_type": "code",
   "execution_count": 3,
   "source": [
    "matplotlib_axes_logger.setLevel('ERROR')\r\n",
    "import warnings\r\n",
    "warnings.filterwarnings('ignore')"
   ],
   "outputs": [],
   "metadata": {}
  },
  {
   "cell_type": "code",
   "execution_count": 4,
   "source": [
    "sns.set(font_scale=1.5, style=\"whitegrid\")"
   ],
   "outputs": [],
   "metadata": {}
  },
  {
   "cell_type": "code",
   "execution_count": 5,
   "source": [
    "# data = et.data.get_data('colorado-flood')"
   ],
   "outputs": [],
   "metadata": {}
  },
  {
   "cell_type": "code",
   "execution_count": 6,
   "source": [
    "data = pd.read_csv('precipitation/805325-precip-daily-2003-2013.csv', na_values=['999.99'], parse_dates=['DATE'], index_col=['DATE'])"
   ],
   "outputs": [],
   "metadata": {}
  },
  {
   "cell_type": "code",
   "execution_count": 7,
   "source": [
    "data.head()"
   ],
   "outputs": [
    {
     "output_type": "execute_result",
     "data": {
      "text/plain": [
       "                         STATION     STATION_NAME  ELEVATION  LATITUDE  \\\n",
       "DATE                                                                     \n",
       "2003-01-01 01:00:00  COOP:050843  BOULDER 2 CO US     1650.5  40.03389   \n",
       "2003-02-01 01:00:00  COOP:050843  BOULDER 2 CO US     1650.5  40.03389   \n",
       "2003-02-02 19:00:00  COOP:050843  BOULDER 2 CO US     1650.5  40.03389   \n",
       "2003-02-02 22:00:00  COOP:050843  BOULDER 2 CO US     1650.5  40.03389   \n",
       "2003-02-03 02:00:00  COOP:050843  BOULDER 2 CO US     1650.5  40.03389   \n",
       "\n",
       "                     LONGITUDE  HPCP Measurement Flag Quality Flag  \n",
       "DATE                                                                \n",
       "2003-01-01 01:00:00 -105.28111   0.0                g               \n",
       "2003-02-01 01:00:00 -105.28111   0.0                g               \n",
       "2003-02-02 19:00:00 -105.28111   0.2                                \n",
       "2003-02-02 22:00:00 -105.28111   0.1                                \n",
       "2003-02-03 02:00:00 -105.28111   0.1                                "
      ],
      "text/html": [
       "<div>\n",
       "<style scoped>\n",
       "    .dataframe tbody tr th:only-of-type {\n",
       "        vertical-align: middle;\n",
       "    }\n",
       "\n",
       "    .dataframe tbody tr th {\n",
       "        vertical-align: top;\n",
       "    }\n",
       "\n",
       "    .dataframe thead th {\n",
       "        text-align: right;\n",
       "    }\n",
       "</style>\n",
       "<table border=\"1\" class=\"dataframe\">\n",
       "  <thead>\n",
       "    <tr style=\"text-align: right;\">\n",
       "      <th></th>\n",
       "      <th>STATION</th>\n",
       "      <th>STATION_NAME</th>\n",
       "      <th>ELEVATION</th>\n",
       "      <th>LATITUDE</th>\n",
       "      <th>LONGITUDE</th>\n",
       "      <th>HPCP</th>\n",
       "      <th>Measurement Flag</th>\n",
       "      <th>Quality Flag</th>\n",
       "    </tr>\n",
       "    <tr>\n",
       "      <th>DATE</th>\n",
       "      <th></th>\n",
       "      <th></th>\n",
       "      <th></th>\n",
       "      <th></th>\n",
       "      <th></th>\n",
       "      <th></th>\n",
       "      <th></th>\n",
       "      <th></th>\n",
       "    </tr>\n",
       "  </thead>\n",
       "  <tbody>\n",
       "    <tr>\n",
       "      <th>2003-01-01 01:00:00</th>\n",
       "      <td>COOP:050843</td>\n",
       "      <td>BOULDER 2 CO US</td>\n",
       "      <td>1650.5</td>\n",
       "      <td>40.03389</td>\n",
       "      <td>-105.28111</td>\n",
       "      <td>0.0</td>\n",
       "      <td>g</td>\n",
       "      <td></td>\n",
       "    </tr>\n",
       "    <tr>\n",
       "      <th>2003-02-01 01:00:00</th>\n",
       "      <td>COOP:050843</td>\n",
       "      <td>BOULDER 2 CO US</td>\n",
       "      <td>1650.5</td>\n",
       "      <td>40.03389</td>\n",
       "      <td>-105.28111</td>\n",
       "      <td>0.0</td>\n",
       "      <td>g</td>\n",
       "      <td></td>\n",
       "    </tr>\n",
       "    <tr>\n",
       "      <th>2003-02-02 19:00:00</th>\n",
       "      <td>COOP:050843</td>\n",
       "      <td>BOULDER 2 CO US</td>\n",
       "      <td>1650.5</td>\n",
       "      <td>40.03389</td>\n",
       "      <td>-105.28111</td>\n",
       "      <td>0.2</td>\n",
       "      <td></td>\n",
       "      <td></td>\n",
       "    </tr>\n",
       "    <tr>\n",
       "      <th>2003-02-02 22:00:00</th>\n",
       "      <td>COOP:050843</td>\n",
       "      <td>BOULDER 2 CO US</td>\n",
       "      <td>1650.5</td>\n",
       "      <td>40.03389</td>\n",
       "      <td>-105.28111</td>\n",
       "      <td>0.1</td>\n",
       "      <td></td>\n",
       "      <td></td>\n",
       "    </tr>\n",
       "    <tr>\n",
       "      <th>2003-02-03 02:00:00</th>\n",
       "      <td>COOP:050843</td>\n",
       "      <td>BOULDER 2 CO US</td>\n",
       "      <td>1650.5</td>\n",
       "      <td>40.03389</td>\n",
       "      <td>-105.28111</td>\n",
       "      <td>0.1</td>\n",
       "      <td></td>\n",
       "      <td></td>\n",
       "    </tr>\n",
       "  </tbody>\n",
       "</table>\n",
       "</div>"
      ]
     },
     "metadata": {},
     "execution_count": 7
    }
   ],
   "metadata": {}
  },
  {
   "cell_type": "code",
   "execution_count": 8,
   "source": [
    "data.plot(y='HPCP', title='Daily Precipitation')"
   ],
   "outputs": [
    {
     "output_type": "execute_result",
     "data": {
      "text/plain": [
       "<AxesSubplot:title={'center':'Daily Precipitation'}, xlabel='DATE'>"
      ]
     },
     "metadata": {},
     "execution_count": 8
    },
    {
     "output_type": "display_data",
     "data": {
      "text/plain": [
       "<Figure size 432x288 with 1 Axes>"
      ],
      "image/png": "[encoded data removed]"
     },
     "metadata": {}
    }
   ],
   "metadata": {}
  },
  {
   "cell_type": "code",
   "execution_count": 9,
   "source": [
    "data['HPCP'].describe()"
   ],
   "outputs": [
    {
     "output_type": "execute_result",
     "data": {
      "text/plain": [
       "count    1746.000000\n",
       "mean        0.111856\n",
       "std         0.093222\n",
       "min         0.000000\n",
       "25%         0.100000\n",
       "50%         0.100000\n",
       "75%         0.100000\n",
       "max         2.200000\n",
       "Name: HPCP, dtype: float64"
      ]
     },
     "metadata": {},
     "execution_count": 9
    }
   ],
   "metadata": {}
  },
  {
   "cell_type": "code",
   "execution_count": 10,
   "source": [
    "data.dtypes"
   ],
   "outputs": [
    {
     "output_type": "execute_result",
     "data": {
      "text/plain": [
       "STATION              object\n",
       "STATION_NAME         object\n",
       "ELEVATION           float64\n",
       "LATITUDE            float64\n",
       "LONGITUDE           float64\n",
       "HPCP                float64\n",
       "Measurement Flag     object\n",
       "Quality Flag         object\n",
       "dtype: object"
      ]
     },
     "metadata": {},
     "execution_count": 10
    }
   ],
   "metadata": {}
  },
  {
   "cell_type": "code",
   "execution_count": 19,
   "source": [
    "precip_2005 = data['2005']\r\n",
    "precip_2005.head()"
   ],
   "outputs": [
    {
     "output_type": "execute_result",
     "data": {
      "text/plain": [
       "                         STATION     STATION_NAME  ELEVATION  LATITUDE  \\\n",
       "DATE                                                                     \n",
       "2005-01-01 01:00:00  COOP:050843  BOULDER 2 CO US     1650.5  40.03389   \n",
       "2005-01-02 06:00:00  COOP:050843  BOULDER 2 CO US     1650.5  40.03389   \n",
       "2005-01-02 08:00:00  COOP:050843  BOULDER 2 CO US     1650.5  40.03389   \n",
       "2005-01-05 08:00:00  COOP:050843  BOULDER 2 CO US     1650.5  40.03389   \n",
       "2005-01-12 04:00:00  COOP:050843  BOULDER 2 CO US     1650.5  40.03389   \n",
       "\n",
       "                     LONGITUDE  HPCP Measurement Flag Quality Flag  \n",
       "DATE                                                                \n",
       "2005-01-01 01:00:00 -105.28111   0.0                g               \n",
       "2005-01-02 06:00:00 -105.28111   NaN                {               \n",
       "2005-01-02 08:00:00 -105.28111   NaN                }               \n",
       "2005-01-05 08:00:00 -105.28111   0.1                                \n",
       "2005-01-12 04:00:00 -105.28111   0.1                                "
      ],
      "text/html": [
       "<div>\n",
       "<style scoped>\n",
       "    .dataframe tbody tr th:only-of-type {\n",
       "        vertical-align: middle;\n",
       "    }\n",
       "\n",
       "    .dataframe tbody tr th {\n",
       "        vertical-align: top;\n",
       "    }\n",
       "\n",
       "    .dataframe thead th {\n",
       "        text-align: right;\n",
       "    }\n",
       "</style>\n",
       "<table border=\"1\" class=\"dataframe\">\n",
       "  <thead>\n",
       "    <tr style=\"text-align: right;\">\n",
       "      <th></th>\n",
       "      <th>STATION</th>\n",
       "      <th>STATION_NAME</th>\n",
       "      <th>ELEVATION</th>\n",
       "      <th>LATITUDE</th>\n",
       "      <th>LONGITUDE</th>\n",
       "      <th>HPCP</th>\n",
       "      <th>Measurement Flag</th>\n",
       "      <th>Quality Flag</th>\n",
       "    </tr>\n",
       "    <tr>\n",
       "      <th>DATE</th>\n",
       "      <th></th>\n",
       "      <th></th>\n",
       "      <th></th>\n",
       "      <th></th>\n",
       "      <th></th>\n",
       "      <th></th>\n",
       "      <th></th>\n",
       "      <th></th>\n",
       "    </tr>\n",
       "  </thead>\n",
       "  <tbody>\n",
       "    <tr>\n",
       "      <th>2005-01-01 01:00:00</th>\n",
       "      <td>COOP:050843</td>\n",
       "      <td>BOULDER 2 CO US</td>\n",
       "      <td>1650.5</td>\n",
       "      <td>40.03389</td>\n",
       "      <td>-105.28111</td>\n",
       "      <td>0.0</td>\n",
       "      <td>g</td>\n",
       "      <td></td>\n",
       "    </tr>\n",
       "    <tr>\n",
       "      <th>2005-01-02 06:00:00</th>\n",
       "      <td>COOP:050843</td>\n",
       "      <td>BOULDER 2 CO US</td>\n",
       "      <td>1650.5</td>\n",
       "      <td>40.03389</td>\n",
       "      <td>-105.28111</td>\n",
       "      <td>NaN</td>\n",
       "      <td>{</td>\n",
       "      <td></td>\n",
       "    </tr>\n",
       "    <tr>\n",
       "      <th>2005-01-02 08:00:00</th>\n",
       "      <td>COOP:050843</td>\n",
       "      <td>BOULDER 2 CO US</td>\n",
       "      <td>1650.5</td>\n",
       "      <td>40.03389</td>\n",
       "      <td>-105.28111</td>\n",
       "      <td>NaN</td>\n",
       "      <td>}</td>\n",
       "      <td></td>\n",
       "    </tr>\n",
       "    <tr>\n",
       "      <th>2005-01-05 08:00:00</th>\n",
       "      <td>COOP:050843</td>\n",
       "      <td>BOULDER 2 CO US</td>\n",
       "      <td>1650.5</td>\n",
       "      <td>40.03389</td>\n",
       "      <td>-105.28111</td>\n",
       "      <td>0.1</td>\n",
       "      <td></td>\n",
       "      <td></td>\n",
       "    </tr>\n",
       "    <tr>\n",
       "      <th>2005-01-12 04:00:00</th>\n",
       "      <td>COOP:050843</td>\n",
       "      <td>BOULDER 2 CO US</td>\n",
       "      <td>1650.5</td>\n",
       "      <td>40.03389</td>\n",
       "      <td>-105.28111</td>\n",
       "      <td>0.1</td>\n",
       "      <td></td>\n",
       "      <td></td>\n",
       "    </tr>\n",
       "  </tbody>\n",
       "</table>\n",
       "</div>"
      ]
     },
     "metadata": {},
     "execution_count": 19
    }
   ],
   "metadata": {}
  },
  {
   "cell_type": "code",
   "execution_count": 20,
   "source": [
    "precip_2005 = precip_2005.dropna()\r\n",
    "precip_2005.reset_index().plot(x = 'DATE', y='HPCP', kind='scatter')"
   ],
   "outputs": [
    {
     "output_type": "execute_result",
     "data": {
      "text/plain": [
       "<AxesSubplot:xlabel='DATE', ylabel='HPCP'>"
      ]
     },
     "metadata": {},
     "execution_count": 20
    },
    {
     "output_type": "display_data",
     "data": {
      "text/plain": [
       "<Figure size 432x288 with 1 Axes>"
      ],
      "image/png": "[encoded data removed]"
     },
     "metadata": {}
    }
   ],
   "metadata": {}
  },
  {
   "cell_type": "markdown",
   "source": [
    "Data Summarized Daily instead of hourly."
   ],
   "metadata": {}
  },
  {
   "cell_type": "code",
   "execution_count": 23,
   "source": [
    "precip_2005_daily = precip_2005.resample('D').sum()"
   ],
   "outputs": [],
   "metadata": {}
  },
  {
   "cell_type": "code",
   "execution_count": 28,
   "source": [
    "f, ax = plt.subplots()\r\n",
    "ax.scatter(x=precip_2005_daily.index.values, y=precip_2005_daily['HPCP'])"
   ],
   "outputs": [
    {
     "output_type": "execute_result",
     "data": {
      "text/plain": [
       "<matplotlib.collections.PathCollection at 0x201d41465e0>"
      ]
     },
     "metadata": {},
     "execution_count": 28
    },
    {
     "output_type": "display_data",
     "data": {
      "text/plain": [
       "<Figure size 432x288 with 1 Axes>"
      ],
      "image/png": "[encoded data removed]"
     },
     "metadata": {}
    }
   ],
   "metadata": {}
  },
  {
   "cell_type": "code",
   "execution_count": null,
   "source": [],
   "outputs": [],
   "metadata": {}
  }
 ],
 "metadata": {
  "orig_nbformat": 4,
  "language_info": {
   "name": "python",
   "version": "3.9.6",
   "mimetype": "text/x-python",
   "codemirror_mode": {
    "name": "ipython",
    "version": 3
   },
   "pygments_lexer": "ipython3",
   "nbconvert_exporter": "python",
   "file_extension": ".py"
  },
  "kernelspec": {
   "name": "python3",
   "display_name": "Python 3.9.6 64-bit"
  },
  "interpreter": {
   "hash": "260e861fc145802b2065f81493a634caf98c96d90fe2dfd40d3303e09cbbbc3d"
  }
 },
 "nbformat": 4,
 "nbformat_minor": 2
}